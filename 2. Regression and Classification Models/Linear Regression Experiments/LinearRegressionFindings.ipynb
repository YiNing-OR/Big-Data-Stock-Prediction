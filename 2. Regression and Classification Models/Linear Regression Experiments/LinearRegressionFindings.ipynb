{
 "cells": [
  {
   "cell_type": "code",
   "execution_count": 1,
   "metadata": {},
   "outputs": [],
   "source": [
    "import pandas as pd\n",
    "import numpy as np\n",
    "from sklearn.model_selection import train_test_split\n",
    "from sklearn.metrics import root_mean_squared_error, r2_score\n",
    "from LassoLinearRegression import LassoRegression\n",
    "from RidgeLinearRegression import RidgeLinearRegression\n",
    "from LinearRegression import run_linear_regression"
   ]
  },
  {
   "cell_type": "code",
   "execution_count": 2,
   "metadata": {},
   "outputs": [],
   "source": [
    "def r2_score(y_true, y_pred):\n",
    "    ss_total = np.sum((y_true - np.mean(y_true)) ** 2)   # Total sum of squares\n",
    "    ss_residual = np.sum((y_true - y_pred) ** 2)         # Residual sum of squares\n",
    "    r2 = 1 - (ss_residual / ss_total)                    # R-squared formula\n",
    "    return r2"
   ]
  },
  {
   "cell_type": "markdown",
   "metadata": {},
   "source": [
    "### Non-Polynomial Input Variables\n"
   ]
  },
  {
   "cell_type": "code",
   "execution_count": 3,
   "metadata": {},
   "outputs": [],
   "source": [
    "merged_df = pd.read_csv('final_dataset.csv')\n",
    "merged_df['Date_hourly'] = merged_df['Date_hourly'].astype(str)\n",
    "\n",
    "Y = merged_df[['Pct_Change']]  \n",
    "X = merged_df[['weighted_positive_fb', 'weighted_negative_fb', 'weighted_neutral_fb','weighted_DocTone']]  \n",
    "\n",
    "x_train, x_test, y_train, y_test = train_test_split(X, Y, test_size=0.4, random_state=1616)\n",
    "x_val, x_test, y_val, y_test = train_test_split(x_test, y_test, test_size=0.5, random_state=1616)  "
   ]
  },
  {
   "cell_type": "code",
   "execution_count": 4,
   "metadata": {},
   "outputs": [
    {
     "name": "stdout",
     "output_type": "stream",
     "text": [
      "Training RMSE: 1.6497097227158268 | Non-Polynomic Train Score: 0.6479707220472588\n",
      "Test RMSE: 1.6532337794048626 | Non-Polynomic Test Score: 0.6483578705400168\n",
      "Lasso Regression Non-Polynomic Score: 0.6086289461659075\n",
      "Ridge Regression Non-Polynomic Score: 0.6482889332172941\n"
     ]
    }
   ],
   "source": [
    "lin_reg_model = run_linear_regression(x_train, y_train)\n",
    "lasso = LassoRegression(alpha=0.1, num_iterations= 1000, learning_rate=0.01)\n",
    "lasso.fit(x_train, np.array(y_train).flatten())\n",
    "\n",
    "ridge = RidgeLinearRegression(alpha=0.1, learning_rate=0.01, epochs=1000)\n",
    "ridge.fit(x_train, np.array(y_train).flatten())\n",
    "\n",
    "lin_reg_predicted_values = lin_reg_model.predict(x_test.values)\n",
    "lasso_y_pred = lasso.predict(x_test)\n",
    "ridge_y_pred = ridge.predict(x_test)\n",
    "\n",
    "train_score = lin_reg_model.score(x_train.values, y_train.values.ravel())\n",
    "test_score = lin_reg_model.score(x_test.values, y_test.values.ravel())\n",
    "train_rmse = lin_reg_model.rmse(x_train.values, y_train.values.ravel())\n",
    "test_rmse = lin_reg_model.rmse(x_test.values, y_test.values.ravel())\n",
    "\n",
    "lasso_test_score = r2_score(np.array(y_test).flatten(), np.array(lasso_y_pred).flatten())\n",
    "ridge_test_score = r2_score(np.array(y_test).flatten(), np.array(ridge_y_pred).flatten())\n",
    "\n",
    "print(f\"Training RMSE: {train_rmse} | Non-Polynomic Train Score: {train_score}\")\n",
    "print(f\"Test RMSE: {test_rmse} | Non-Polynomic Test Score: {test_score}\")\n",
    "\n",
    "print(f\"Lasso Regression Non-Polynomic Score: {lasso_test_score}\")\n",
    "print(f\"Ridge Regression Non-Polynomic Score: {ridge_test_score}\")\n"
   ]
  },
  {
   "cell_type": "markdown",
   "metadata": {},
   "source": [
    "### Polynomic Input Variables\n"
   ]
  },
  {
   "cell_type": "code",
   "execution_count": 5,
   "metadata": {},
   "outputs": [],
   "source": [
    "# Polynomial feature creation\n",
    "\n",
    "merged_df['weighted_positive_fb_squared'] = merged_df['weighted_positive_fb'] ** 2\n",
    "merged_df['positive_negative_interaction'] = merged_df['weighted_positive_fb'] * merged_df['weighted_negative_fb']\n",
    "merged_df['positive_neutral_interaction'] = merged_df['weighted_positive_fb'] * merged_df['weighted_neutral_fb']\n",
    "merged_df['negative_neutral_interaction'] = merged_df['weighted_negative_fb'] * merged_df['weighted_neutral_fb']\n",
    "\n",
    "Y = merged_df[['Pct_Change']]  \n",
    "X = merged_df[['weighted_positive_fb_squared', 'positive_negative_interaction', 'positive_neutral_interaction','negative_neutral_interaction', 'weighted_positive_fb', 'weighted_negative_fb', 'weighted_neutral_fb','weighted_DocTone']]  \n",
    "\n",
    "x_train, x_test, y_train, y_test = train_test_split(X, Y, test_size=0.4, random_state=1616)\n",
    "x_val, x_test, y_val, y_test = train_test_split(x_test, y_test, test_size=0.5, random_state=1616)  \n"
   ]
  },
  {
   "cell_type": "code",
   "execution_count": 6,
   "metadata": {},
   "outputs": [
    {
     "name": "stdout",
     "output_type": "stream",
     "text": [
      "Training RMSE: 1.6060308853333638 | Polynomic Train Score: 0.6663650778748216\n",
      "Test RMSE: 1.6144774882867075 | Polynomic Test Score: 0.6646515153883017\n",
      "Lasso Regression Polynomic Score: 0.6138427781610919\n",
      "Ridge Regression Polynomic Score: 0.6428432056192599\n"
     ]
    }
   ],
   "source": [
    "lin_reg_model = run_linear_regression(x_train, y_train)\n",
    "lasso = LassoRegression(alpha=0.1, num_iterations= 1000, learning_rate=0.01)\n",
    "lasso.fit(x_train, np.array(y_train).flatten())\n",
    "\n",
    "ridge = RidgeLinearRegression(alpha=0.1, learning_rate=0.01, epochs=1000)\n",
    "ridge.fit(x_train, np.array(y_train).flatten())\n",
    "\n",
    "lin_reg_predicted_values = lin_reg_model.predict(x_test.values)\n",
    "lasso_y_pred = lasso.predict(x_test)\n",
    "ridge_y_pred = ridge.predict(x_test)\n",
    "\n",
    "train_score = lin_reg_model.score(x_train.values, y_train.values.ravel())\n",
    "test_score = lin_reg_model.score(x_test.values, y_test.values.ravel())\n",
    "train_rmse = lin_reg_model.rmse(x_train.values, y_train.values.ravel())\n",
    "test_rmse = lin_reg_model.rmse(x_test.values, y_test.values.ravel())\n",
    "\n",
    "lasso_test_score = r2_score(np.array(y_test).flatten(), np.array(lasso_y_pred).flatten())\n",
    "ridge_test_score = r2_score(np.array(y_test).flatten(), np.array(ridge_y_pred).flatten())\n",
    "\n",
    "print(f\"Training RMSE: {train_rmse} | Polynomic Train Score: {train_score}\")\n",
    "print(f\"Test RMSE: {test_rmse} | Polynomic Test Score: {test_score}\")\n",
    "\n",
    "print(f\"Lasso Regression Polynomic Score: {lasso_test_score}\")\n",
    "print(f\"Ridge Regression Polynomic Score: {ridge_test_score}\")\n"
   ]
  },
  {
   "cell_type": "code",
   "execution_count": null,
   "metadata": {},
   "outputs": [],
   "source": []
  },
  {
   "cell_type": "markdown",
   "metadata": {},
   "source": [
    "Training RMSE: 1.5907842134771632 | Polynomial Train Score: 0.6832450714320921  \n",
    "Test RMSE: 1.5962203492327482 | Polynomial Test Score: 0.6809621031247543  \n",
    "Lasso Regression Polynomial Score: 0.6453719228701352  \n",
    "Ridge Regression Polynomial Score: 0.6700021317909382\n"
   ]
  },
  {
   "cell_type": "code",
   "execution_count": null,
   "metadata": {},
   "outputs": [],
   "source": [
    "# Polynomial feature creation\n",
    "\n",
    "merged_df['weighted_positive_fb_squared'] = merged_df['weighted_positive_fb'] ** 2\n",
    "merged_df['positive_negative_interaction'] = merged_df['weighted_positive_fb'] * merged_df['weighted_negative_fb']\n",
    "merged_df['positive_neutral_interaction'] = merged_df['weighted_positive_fb'] * merged_df['weighted_neutral_fb']\n",
    "merged_df['negative_neutral_interaction'] = merged_df['weighted_negative_fb'] * merged_df['weighted_neutral_fb']\n",
    "\n",
    "Y = merged_df[['Pct_Change']]  \n",
    "X = merged_df[['weighted_positive_fb_squared', 'positive_negative_interaction', 'positive_neutral_interaction','negative_neutral_interaction', 'weighted_positive_fb', 'weighted_negative_fb', 'weighted_neutral_fb','weighted_DocTone']]  \n",
    "\n",
    "x_train, x_test, y_train, y_test = train_test_split(X, Y, test_size=0.4, random_state=1616)\n",
    "x_val, x_test, y_val, y_test = train_test_split(x_test, y_test, test_size=0.5, random_state=1616)  \n"
   ]
  },
  {
   "cell_type": "code",
   "execution_count": null,
   "metadata": {},
   "outputs": [],
   "source": [
    "# Polynomial feature creation\n",
    "\n",
    "merged_df['weighted_positive_fb_squared'] = merged_df['weighted_positive_fb'] ** 2\n",
    "merged_df['positive_negative_interaction'] = merged_df['weighted_positive_fb'] * merged_df['weighted_negative_fb']\n",
    "merged_df['positive_neutral_interaction'] = merged_df['weighted_positive_fb'] * merged_df['weighted_neutral_fb']\n",
    "merged_df['negative_neutral_interaction'] = merged_df['weighted_negative_fb'] * merged_df['weighted_neutral_fb']\n",
    "\n",
    "Y = merged_df[['Pct_Change']]  \n",
    "X = merged_df[['weighted_positive_fb_squared', 'positive_negative_interaction', 'positive_neutral_interaction','negative_neutral_interaction', 'weighted_positive_fb', 'weighted_negative_fb', 'weighted_neutral_fb','weighted_DocTone']]  \n",
    "\n",
    "x_train, x_test, y_train, y_test = train_test_split(X, Y, test_size=0.4, random_state=1616)\n",
    "x_val, x_test, y_val, y_test = train_test_split(x_test, y_test, test_size=0.5, random_state=1616)  \n"
   ]
  }
 ],
 "metadata": {
  "kernelspec": {
   "display_name": "news-sentiment-analysis",
   "language": "python",
   "name": "python3"
  },
  "language_info": {
   "codemirror_mode": {
    "name": "ipython",
    "version": 3
   },
   "file_extension": ".py",
   "mimetype": "text/x-python",
   "name": "python",
   "nbconvert_exporter": "python",
   "pygments_lexer": "ipython3",
   "version": "3.11.10"
  }
 },
 "nbformat": 4,
 "nbformat_minor": 2
}
