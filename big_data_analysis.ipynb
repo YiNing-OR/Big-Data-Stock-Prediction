{
 "cells": [
  {
   "cell_type": "markdown",
   "metadata": {},
   "source": [
    "### Imports"
   ]
  },
  {
   "cell_type": "code",
   "execution_count": 1,
   "metadata": {},
   "outputs": [],
   "source": [
    "import pyspark\n",
    "import requests\n",
    "import pandas as pd\n",
    "\n",
    "from io import StringIO\n",
    "from pyspark.sql import SparkSession\n",
    "from pyspark.sql.functions import col"
   ]
  },
  {
   "cell_type": "code",
   "execution_count": 3,
   "metadata": {},
   "outputs": [
    {
     "name": "stderr",
     "output_type": "stream",
     "text": [
      "24/09/07 23:24:27 WARN Utils: Your hostname, Benjamins-MacBook-Pro.local resolves to a loopback address: 127.0.0.1; using 192.168.18.6 instead (on interface en0)\n",
      "24/09/07 23:24:27 WARN Utils: Set SPARK_LOCAL_IP if you need to bind to another address\n",
      "Ivy Default Cache set to: /Users/benho/.ivy2/cache\n",
      "The jars for the packages stored in: /Users/benho/.ivy2/jars\n",
      "com.google.cloud.spark#spark-3.5-bigquery added as a dependency\n",
      ":: resolving dependencies :: org.apache.spark#spark-submit-parent-c6e980f1-8488-44ab-891e-9475ed4d697d;1.0\n",
      "\tconfs: [default]\n"
     ]
    },
    {
     "name": "stdout",
     "output_type": "stream",
     "text": [
      ":: loading settings :: url = jar:file:/Users/benho/miniforge3/envs/cs5344/lib/python3.12/site-packages/pyspark/jars/ivy-2.5.1.jar!/org/apache/ivy/core/settings/ivysettings.xml\n"
     ]
    },
    {
     "name": "stderr",
     "output_type": "stream",
     "text": [
      "\tfound com.google.cloud.spark#spark-3.5-bigquery;0.41.0 in central\n",
      "\tfound com.google.cloud.spark#spark-bigquery-dsv2-common;0.41.0 in central\n",
      "\tfound com.google.cloud.spark#spark-bigquery-connector-common;0.41.0 in central\n",
      "\tfound com.google.cloud.spark#bigquery-connector-common;0.41.0 in central\n",
      "\tfound com.google.api.grpc#grpc-google-cloud-bigquerystorage-v1;3.9.0 in central\n",
      "\tfound io.grpc#grpc-api;1.66.0 in central\n",
      "\tfound com.google.code.findbugs#jsr305;3.0.2 in central\n",
      "\tfound com.google.errorprone#error_prone_annotations;2.23.0 in central\n",
      "\tfound io.grpc#grpc-stub;1.66.0 in central\n",
      "\tfound io.grpc#grpc-protobuf;1.66.0 in central\n",
      "\tfound com.google.api.grpc#proto-google-common-protos;2.43.0 in central\n",
      "\tfound com.google.protobuf#protobuf-java;3.25.3 in central\n",
      "\tfound com.google.api.grpc#proto-google-cloud-bigquerystorage-v1;3.9.0 in central\n",
      "\tfound com.google.api#api-common;2.35.0 in central\n",
      "\tfound com.google.auto.value#auto-value-annotations;1.11.0 in central\n",
      "\tfound javax.annotation#javax.annotation-api;1.3.2 in central\n",
      "\tfound com.google.j2objc#j2objc-annotations;3.0.0 in central\n",
      "\tfound com.google.guava#guava;33.3.0-jre in central\n",
      "\tfound com.google.guava#failureaccess;1.0.2 in central\n",
      "\tfound com.google.guava#listenablefuture;9999.0-empty-to-avoid-conflict-with-guava in central\n",
      "\tfound org.checkerframework#checker-qual;3.46.0 in central\n",
      "\tfound com.google.cloud#google-cloud-bigquery;2.42.2 in central\n",
      "\tfound com.google.cloud#google-cloud-core;2.42.0 in central\n",
      "\tfound com.google.protobuf#protobuf-java-util;3.25.3 in central\n",
      "\tfound com.google.api.grpc#proto-google-iam-v1;1.38.0 in central\n",
      "\tfound com.google.cloud#google-cloud-core-http;2.42.0 in central\n",
      "\tfound com.google.api-client#google-api-client;2.6.0 in central\n",
      "\tfound com.google.oauth-client#google-oauth-client;1.36.0 in central\n",
      "\tfound com.google.http-client#google-http-client-apache-v2;1.44.2 in central\n",
      "\tfound com.google.http-client#google-http-client-appengine;1.44.2 in central\n",
      "\tfound com.google.api#gax-httpjson;2.52.0 in central\n",
      "\tfound io.opencensus#opencensus-api;0.31.1 in central\n",
      "\tfound io.opencensus#opencensus-contrib-http-util;0.31.1 in central\n",
      "\tfound com.google.http-client#google-http-client-gson;1.44.2 in central\n",
      "\tfound com.google.http-client#google-http-client;1.44.2 in central\n",
      "\tfound org.apache.httpcomponents#httpclient;4.5.14 in central\n",
      "\tfound org.apache.httpcomponents#httpcore;4.4.16 in central\n",
      "\tfound io.grpc#grpc-context;1.66.0 in central\n",
      "\tfound org.checkerframework#checker-compat-qual;2.5.6 in central\n",
      "\tfound com.google.auth#google-auth-library-credentials;1.24.1 in central\n",
      "\tfound com.google.auth#google-auth-library-oauth2-http;1.24.1 in central\n",
      "\tfound com.google.apis#google-api-services-bigquery;v2-rev20240815-2.0.0 in central\n",
      "\tfound com.google.api#gax;2.52.0 in central\n",
      "\tfound org.threeten#threetenbp;1.6.9 in central\n",
      "\tfound org.threeten#threeten-extra;1.8.0 in central\n",
      "\tfound com.google.cloud#google-cloud-bigquerystorage;3.9.0 in central\n",
      "\tfound io.grpc#grpc-util;1.66.0 in central\n",
      "\tfound io.grpc#grpc-core;1.66.0 in central\n",
      "\tfound com.google.auto.value#auto-value;1.11.0 in central\n",
      "\tfound com.google.api.grpc#proto-google-cloud-bigquerystorage-v1alpha;3.9.0 in central\n",
      "\tfound com.google.api#gax-grpc;2.52.0 in central\n",
      "\tfound io.grpc#grpc-inprocess;1.66.0 in central\n",
      "\tfound io.grpc#grpc-alts;1.66.0 in central\n",
      "\tfound io.grpc#grpc-grpclb;1.66.0 in central\n",
      "\tfound org.conscrypt#conscrypt-openjdk-uber;2.5.2 in central\n",
      "\tfound io.grpc#grpc-auth;1.66.0 in central\n",
      "\tfound org.json#json;20231013 in central\n",
      "\tfound io.opentelemetry#opentelemetry-api;1.41.0 in central\n",
      "\tfound io.opentelemetry#opentelemetry-context;1.41.0 in central\n",
      "\tfound commons-codec#commons-codec;1.16.0 in central\n",
      "\tfound io.grpc#grpc-netty-shaded;1.66.0 in central\n",
      "\tfound org.apache.arrow#arrow-vector;16.0.0 in central\n",
      "\tfound org.apache.arrow#arrow-memory-core;16.0.0 in central\n",
      "\tfound com.fasterxml.jackson.core#jackson-core;2.17.2 in central\n",
      "\tfound com.fasterxml.jackson.core#jackson-annotations;2.17.2 in central\n",
      "\tfound com.fasterxml.jackson.core#jackson-databind;2.17.2 in central\n",
      "\tfound com.fasterxml.jackson.datatype#jackson-datatype-jsr310;2.17.2 in central\n",
      "\tfound com.google.flatbuffers#flatbuffers-java;23.5.26 in central\n",
      "\tfound org.apache.arrow#arrow-format;15.0.2 in central\n",
      "\tfound org.slf4j#slf4j-api;2.0.9 in central\n",
      "\tfound org.eclipse.collections#eclipse-collections;11.1.0 in central\n",
      "\tfound org.eclipse.collections#eclipse-collections-api;11.1.0 in central\n",
      "\tfound com.google.inject#guice;5.1.0 in central\n",
      "\tfound javax.inject#javax.inject;1 in central\n",
      "\tfound aopalliance#aopalliance;1.0 in central\n",
      "\tfound io.grpc#grpc-netty;1.66.0 in central\n",
      "\tfound io.netty#netty-codec-http2;4.1.113.Final in central\n",
      "\tfound io.netty#netty-common;4.1.113.Final in central\n",
      "\tfound io.netty#netty-buffer;4.1.113.Final in central\n",
      "\tfound io.netty#netty-transport;4.1.113.Final in central\n",
      "\tfound io.netty#netty-resolver;4.1.113.Final in central\n",
      "\tfound io.netty#netty-codec;4.1.113.Final in central\n",
      "\tfound io.netty#netty-handler;4.1.113.Final in central\n",
      "\tfound io.netty#netty-transport-native-unix-common;4.1.113.Final in central\n",
      "\tfound io.netty#netty-codec-http;4.1.113.Final in central\n",
      "\tfound io.netty#netty-tcnative-boringssl-static;2.0.66.Final in central\n",
      "\tfound io.netty#netty-tcnative-classes;2.0.66.Final in central\n",
      "\tfound org.apache.arrow#arrow-memory-netty;16.0.0 in central\n",
      "\tfound org.apache.arrow#arrow-memory-netty-buffer-patch;16.0.0 in central\n",
      "\tfound com.google.code.gson#gson;2.9.1 in central\n",
      "\tfound io.openlineage#spark-extension-interfaces;1.19.0 in central\n",
      "\tfound org.apache.beam#beam-sdks-java-io-hadoop-common;2.43.0 in central\n",
      "\tfound org.apache.arrow#arrow-compression;16.0.0 in central\n",
      "\tfound org.apache.commons#commons-compress;1.26.0 in central\n",
      "\tfound commons-io#commons-io;2.15.1 in central\n",
      "\tfound org.apache.commons#commons-lang3;3.14.0 in central\n",
      "\tfound com.github.luben#zstd-jni;1.4.9-1 in central\n",
      "\tfound io.grpc#grpc-protobuf-lite;1.66.0 in central\n",
      "\tfound com.google.android#annotations;4.1.1.4 in central\n",
      "\tfound io.perfmark#perfmark-api;0.27.0 in central\n",
      "\tfound org.codehaus.mojo#animal-sniffer-annotations;1.24 in central\n",
      "\tfound io.grpc#grpc-googleapis;1.66.0 in central\n",
      "\tfound io.netty#netty-handler-proxy;4.1.113.Final in central\n",
      "\tfound io.netty#netty-codec-socks;4.1.113.Final in central\n",
      ":: resolution report :: resolve 1112ms :: artifacts dl 25ms\n",
      "\t:: modules in use:\n",
      "\taopalliance#aopalliance;1.0 from central in [default]\n",
      "\tcom.fasterxml.jackson.core#jackson-annotations;2.17.2 from central in [default]\n",
      "\tcom.fasterxml.jackson.core#jackson-core;2.17.2 from central in [default]\n",
      "\tcom.fasterxml.jackson.core#jackson-databind;2.17.2 from central in [default]\n",
      "\tcom.fasterxml.jackson.datatype#jackson-datatype-jsr310;2.17.2 from central in [default]\n",
      "\tcom.github.luben#zstd-jni;1.4.9-1 from central in [default]\n",
      "\tcom.google.android#annotations;4.1.1.4 from central in [default]\n",
      "\tcom.google.api#api-common;2.35.0 from central in [default]\n",
      "\tcom.google.api#gax;2.52.0 from central in [default]\n",
      "\tcom.google.api#gax-grpc;2.52.0 from central in [default]\n",
      "\tcom.google.api#gax-httpjson;2.52.0 from central in [default]\n",
      "\tcom.google.api-client#google-api-client;2.6.0 from central in [default]\n",
      "\tcom.google.api.grpc#grpc-google-cloud-bigquerystorage-v1;3.9.0 from central in [default]\n",
      "\tcom.google.api.grpc#proto-google-cloud-bigquerystorage-v1;3.9.0 from central in [default]\n",
      "\tcom.google.api.grpc#proto-google-cloud-bigquerystorage-v1alpha;3.9.0 from central in [default]\n",
      "\tcom.google.api.grpc#proto-google-common-protos;2.43.0 from central in [default]\n",
      "\tcom.google.api.grpc#proto-google-iam-v1;1.38.0 from central in [default]\n",
      "\tcom.google.apis#google-api-services-bigquery;v2-rev20240815-2.0.0 from central in [default]\n",
      "\tcom.google.auth#google-auth-library-credentials;1.24.1 from central in [default]\n",
      "\tcom.google.auth#google-auth-library-oauth2-http;1.24.1 from central in [default]\n",
      "\tcom.google.auto.value#auto-value;1.11.0 from central in [default]\n",
      "\tcom.google.auto.value#auto-value-annotations;1.11.0 from central in [default]\n",
      "\tcom.google.cloud#google-cloud-bigquery;2.42.2 from central in [default]\n",
      "\tcom.google.cloud#google-cloud-bigquerystorage;3.9.0 from central in [default]\n",
      "\tcom.google.cloud#google-cloud-core;2.42.0 from central in [default]\n",
      "\tcom.google.cloud#google-cloud-core-http;2.42.0 from central in [default]\n",
      "\tcom.google.cloud.spark#bigquery-connector-common;0.41.0 from central in [default]\n",
      "\tcom.google.cloud.spark#spark-3.5-bigquery;0.41.0 from central in [default]\n",
      "\tcom.google.cloud.spark#spark-bigquery-connector-common;0.41.0 from central in [default]\n",
      "\tcom.google.cloud.spark#spark-bigquery-dsv2-common;0.41.0 from central in [default]\n",
      "\tcom.google.code.findbugs#jsr305;3.0.2 from central in [default]\n",
      "\tcom.google.code.gson#gson;2.9.1 from central in [default]\n",
      "\tcom.google.errorprone#error_prone_annotations;2.23.0 from central in [default]\n",
      "\tcom.google.flatbuffers#flatbuffers-java;23.5.26 from central in [default]\n",
      "\tcom.google.guava#failureaccess;1.0.2 from central in [default]\n",
      "\tcom.google.guava#guava;33.3.0-jre from central in [default]\n",
      "\tcom.google.guava#listenablefuture;9999.0-empty-to-avoid-conflict-with-guava from central in [default]\n",
      "\tcom.google.http-client#google-http-client;1.44.2 from central in [default]\n",
      "\tcom.google.http-client#google-http-client-apache-v2;1.44.2 from central in [default]\n",
      "\tcom.google.http-client#google-http-client-appengine;1.44.2 from central in [default]\n",
      "\tcom.google.http-client#google-http-client-gson;1.44.2 from central in [default]\n",
      "\tcom.google.inject#guice;5.1.0 from central in [default]\n",
      "\tcom.google.j2objc#j2objc-annotations;3.0.0 from central in [default]\n",
      "\tcom.google.oauth-client#google-oauth-client;1.36.0 from central in [default]\n",
      "\tcom.google.protobuf#protobuf-java;3.25.3 from central in [default]\n",
      "\tcom.google.protobuf#protobuf-java-util;3.25.3 from central in [default]\n",
      "\tcommons-codec#commons-codec;1.16.0 from central in [default]\n",
      "\tcommons-io#commons-io;2.15.1 from central in [default]\n",
      "\tio.grpc#grpc-alts;1.66.0 from central in [default]\n",
      "\tio.grpc#grpc-api;1.66.0 from central in [default]\n",
      "\tio.grpc#grpc-auth;1.66.0 from central in [default]\n",
      "\tio.grpc#grpc-context;1.66.0 from central in [default]\n",
      "\tio.grpc#grpc-core;1.66.0 from central in [default]\n",
      "\tio.grpc#grpc-googleapis;1.66.0 from central in [default]\n",
      "\tio.grpc#grpc-grpclb;1.66.0 from central in [default]\n",
      "\tio.grpc#grpc-inprocess;1.66.0 from central in [default]\n",
      "\tio.grpc#grpc-netty;1.66.0 from central in [default]\n",
      "\tio.grpc#grpc-netty-shaded;1.66.0 from central in [default]\n",
      "\tio.grpc#grpc-protobuf;1.66.0 from central in [default]\n",
      "\tio.grpc#grpc-protobuf-lite;1.66.0 from central in [default]\n",
      "\tio.grpc#grpc-stub;1.66.0 from central in [default]\n",
      "\tio.grpc#grpc-util;1.66.0 from central in [default]\n",
      "\tio.netty#netty-buffer;4.1.113.Final from central in [default]\n",
      "\tio.netty#netty-codec;4.1.113.Final from central in [default]\n",
      "\tio.netty#netty-codec-http;4.1.113.Final from central in [default]\n",
      "\tio.netty#netty-codec-http2;4.1.113.Final from central in [default]\n",
      "\tio.netty#netty-codec-socks;4.1.113.Final from central in [default]\n",
      "\tio.netty#netty-common;4.1.113.Final from central in [default]\n",
      "\tio.netty#netty-handler;4.1.113.Final from central in [default]\n",
      "\tio.netty#netty-handler-proxy;4.1.113.Final from central in [default]\n",
      "\tio.netty#netty-resolver;4.1.113.Final from central in [default]\n",
      "\tio.netty#netty-tcnative-boringssl-static;2.0.66.Final from central in [default]\n",
      "\tio.netty#netty-tcnative-classes;2.0.66.Final from central in [default]\n",
      "\tio.netty#netty-transport;4.1.113.Final from central in [default]\n",
      "\tio.netty#netty-transport-native-unix-common;4.1.113.Final from central in [default]\n",
      "\tio.opencensus#opencensus-api;0.31.1 from central in [default]\n",
      "\tio.opencensus#opencensus-contrib-http-util;0.31.1 from central in [default]\n",
      "\tio.openlineage#spark-extension-interfaces;1.19.0 from central in [default]\n",
      "\tio.opentelemetry#opentelemetry-api;1.41.0 from central in [default]\n",
      "\tio.opentelemetry#opentelemetry-context;1.41.0 from central in [default]\n",
      "\tio.perfmark#perfmark-api;0.27.0 from central in [default]\n",
      "\tjavax.annotation#javax.annotation-api;1.3.2 from central in [default]\n",
      "\tjavax.inject#javax.inject;1 from central in [default]\n",
      "\torg.apache.arrow#arrow-compression;16.0.0 from central in [default]\n",
      "\torg.apache.arrow#arrow-format;15.0.2 from central in [default]\n",
      "\torg.apache.arrow#arrow-memory-core;16.0.0 from central in [default]\n",
      "\torg.apache.arrow#arrow-memory-netty;16.0.0 from central in [default]\n",
      "\torg.apache.arrow#arrow-memory-netty-buffer-patch;16.0.0 from central in [default]\n",
      "\torg.apache.arrow#arrow-vector;16.0.0 from central in [default]\n",
      "\torg.apache.beam#beam-sdks-java-io-hadoop-common;2.43.0 from central in [default]\n",
      "\torg.apache.commons#commons-compress;1.26.0 from central in [default]\n",
      "\torg.apache.commons#commons-lang3;3.14.0 from central in [default]\n",
      "\torg.apache.httpcomponents#httpclient;4.5.14 from central in [default]\n",
      "\torg.apache.httpcomponents#httpcore;4.4.16 from central in [default]\n",
      "\torg.checkerframework#checker-compat-qual;2.5.6 from central in [default]\n",
      "\torg.checkerframework#checker-qual;3.46.0 from central in [default]\n",
      "\torg.codehaus.mojo#animal-sniffer-annotations;1.24 from central in [default]\n",
      "\torg.conscrypt#conscrypt-openjdk-uber;2.5.2 from central in [default]\n",
      "\torg.eclipse.collections#eclipse-collections;11.1.0 from central in [default]\n",
      "\torg.eclipse.collections#eclipse-collections-api;11.1.0 from central in [default]\n",
      "\torg.json#json;20231013 from central in [default]\n",
      "\torg.slf4j#slf4j-api;2.0.9 from central in [default]\n",
      "\torg.threeten#threeten-extra;1.8.0 from central in [default]\n",
      "\torg.threeten#threetenbp;1.6.9 from central in [default]\n",
      "\t:: evicted modules:\n",
      "\tcom.google.code.gson#gson;2.11.0 by [com.google.code.gson#gson;2.9.1] in [default]\n",
      "\torg.apache.arrow#arrow-format;16.0.0 by [org.apache.arrow#arrow-format;15.0.2] in [default]\n",
      "\torg.slf4j#slf4j-api;2.0.11 by [org.slf4j#slf4j-api;2.0.9] in [default]\n",
      "\torg.checkerframework#checker-qual;3.42.0 by [org.checkerframework#checker-qual;3.46.0] in [default]\n",
      "\torg.checkerframework#checker-qual;3.10.0 by [org.checkerframework#checker-qual;3.46.0] in [default]\n",
      "\torg.checkerframework#checker-qual;3.43.0 by [org.checkerframework#checker-qual;3.46.0] in [default]\n",
      "\t---------------------------------------------------------------------\n",
      "\t|                  |            modules            ||   artifacts   |\n",
      "\t|       conf       | number| search|dwnlded|evicted|| number|dwnlded|\n",
      "\t---------------------------------------------------------------------\n",
      "\t|      default     |  110  |   0   |   0   |   6   ||  104  |   0   |\n",
      "\t---------------------------------------------------------------------\n",
      ":: retrieving :: org.apache.spark#spark-submit-parent-c6e980f1-8488-44ab-891e-9475ed4d697d\n",
      "\tconfs: [default]\n",
      "\t0 artifacts copied, 104 already retrieved (0kB/13ms)\n",
      "24/09/07 23:24:28 WARN NativeCodeLoader: Unable to load native-hadoop library for your platform... using builtin-java classes where applicable\n",
      "Setting default log level to \"WARN\".\n",
      "To adjust logging level use sc.setLogLevel(newLevel). For SparkR, use setLogLevel(newLevel).\n"
     ]
    }
   ],
   "source": [
    "spark = SparkSession.builder.appName(\"news_data_analysis\").config('spark.jars.packages', \"com.google.cloud.spark:spark-3.5-bigquery:0.41.0\").getOrCreate()"
   ]
  },
  {
   "cell_type": "code",
   "execution_count": 4,
   "metadata": {},
   "outputs": [
    {
     "name": "stderr",
     "output_type": "stream",
     "text": [
      "                                                                                \r"
     ]
    },
    {
     "name": "stdout",
     "output_type": "stream",
     "text": [
      "+-------------------+--------------------+-----+--------------------+--------+-----------------+-----------------+--------------------+-------+--------+-----------+--------+--------+-------+--------------------+--------------------+\n",
      "|           DateTime|                 URL|Title|        SharingImage|LangCode|          DocTone|DomainCountryCode|            Location|    Lat|     Lon|CountryCode|Adm1Code|Adm2Code|GeoType|      ContextualText|            the_geom|\n",
      "+-------------------+--------------------+-----+--------------------+--------+-----------------+-----------------+--------------------+-------+--------+-----------+--------+--------+-------+--------------------+--------------------+\n",
      "|2024-09-06 10:45:00|https://www.israe...| NULL|https://a7.org/fi...|     eng|-9.60264900662252|               IS|Apalachee High Sc...|33.9483|-83.7855|         US|    USGA|   GA013|      3|allowing his son ...|POINT(-83.7855 33...|\n",
      "|2024-09-06 10:45:00|https://www.israe...| NULL|https://a7.org/fi...|     eng|-9.60264900662252|               IS|Atlanta, Georgia,...| 33.749| -84.388|         US|    USGA|   GA121|      3|a weapon gbi dire...|POINT(-84.388 33....|\n",
      "|2024-09-07 07:45:00|https://www.israe...| NULL|https://a7.org/fi...|     eng|-9.84555984555985|               IS|             Austria|47.3333| 13.3333|         AU|      AU|    NULL|      1|after he fired a ...|POINT(13.3333 47....|\n",
      "|2024-09-07 07:45:00|https://www.israe...| NULL|https://a7.org/fi...|     eng|-9.84555984555985|               IS|             Austria|47.3333| 13.3333|         AU|      AU|    NULL|      1|it may have been ...|POINT(13.3333 47....|\n",
      "|2024-09-07 07:45:00|https://www.israe...| NULL|https://a7.org/fi...|     eng|-9.84555984555985|               IS|             Austria|47.3333| 13.3333|         AU|      AU|    NULL|      1|after he fired a ...|POINT(13.3333 47....|\n",
      "+-------------------+--------------------+-----+--------------------+--------+-----------------+-----------------+--------------------+-------+--------+-----------+--------+--------+-------+--------------------+--------------------+\n",
      "only showing top 5 rows\n",
      "\n"
     ]
    }
   ],
   "source": [
    "df = spark.read.format(\"bigquery\").option(\"table\", \"gdelt-bq.gdeltv2.ggg\").load()\n",
    "df.show(5)"
   ]
  },
  {
   "cell_type": "code",
   "execution_count": 6,
   "metadata": {},
   "outputs": [
    {
     "name": "stderr",
     "output_type": "stream",
     "text": [
      "                                                                                \r"
     ]
    }
   ],
   "source": [
    "us_news = df.filter(df.CountryCode == \"US\")"
   ]
  },
  {
   "cell_type": "code",
   "execution_count": 7,
   "metadata": {},
   "outputs": [
    {
     "name": "stdout",
     "output_type": "stream",
     "text": [
      "+-------------------+--------------------+-----+--------------------+--------+-----------------+-----------------+--------------------+-------+--------+-----------+--------+--------+-------+--------------------+--------------------+\n",
      "|           DateTime|                 URL|Title|        SharingImage|LangCode|          DocTone|DomainCountryCode|            Location|    Lat|     Lon|CountryCode|Adm1Code|Adm2Code|GeoType|      ContextualText|            the_geom|\n",
      "+-------------------+--------------------+-----+--------------------+--------+-----------------+-----------------+--------------------+-------+--------+-----------+--------+--------+-------+--------------------+--------------------+\n",
      "|2024-09-06 10:45:00|https://www.israe...| NULL|https://a7.org/fi...|     eng|-9.60264900662252|               IS|Apalachee High Sc...|33.9483|-83.7855|         US|    USGA|   GA013|      3|allowing his son ...|POINT(-83.7855 33...|\n",
      "|2024-09-06 10:45:00|https://www.israe...| NULL|https://a7.org/fi...|     eng|-9.60264900662252|               IS|Atlanta, Georgia,...| 33.749| -84.388|         US|    USGA|   GA121|      3|a weapon gbi dire...|POINT(-84.388 33....|\n",
      "|2024-09-06 09:00:00|https://woay.com/...| NULL|https://woay.com/...|     eng|-1.84331797235023|               US|California, Unite...|  36.17|-119.746|         US|    USCA|    NULL|      2|the storm track f...|POINT(-119.746 36...|\n",
      "|2024-09-06 10:45:00|https://www.israe...| NULL|https://a7.org/fi...|     eng|-9.60264900662252|               IS|Georgia, United S...|32.9866|-83.6487|         US|    USGA|    NULL|      2|various charges i...|POINT(-83.6487 32...|\n",
      "|2024-09-06 11:00:00|https://www.israe...| NULL|https://a7.org/fi...|     eng|-3.97727272727273|               IS|Georgia, United S...|32.9866|-83.6487|         US|    USGA|    NULL|      2|attending a music...|POINT(-83.6487 32...|\n",
      "+-------------------+--------------------+-----+--------------------+--------+-----------------+-----------------+--------------------+-------+--------+-----------+--------+--------+-------+--------------------+--------------------+\n",
      "only showing top 5 rows\n",
      "\n"
     ]
    },
    {
     "name": "stderr",
     "output_type": "stream",
     "text": [
      "                                                                                \r"
     ]
    }
   ],
   "source": [
    "us_news.show(5)"
   ]
  },
  {
   "cell_type": "code",
   "execution_count": 8,
   "metadata": {},
   "outputs": [
    {
     "name": "stderr",
     "output_type": "stream",
     "text": [
      "                                                                                \r"
     ]
    },
    {
     "data": {
      "text/plain": [
       "848348334"
      ]
     },
     "execution_count": 8,
     "metadata": {},
     "output_type": "execute_result"
    }
   ],
   "source": [
    "us_news.count()"
   ]
  },
  {
   "cell_type": "code",
   "execution_count": null,
   "metadata": {},
   "outputs": [],
   "source": []
  }
 ],
 "metadata": {
  "kernelspec": {
   "display_name": "cs5344",
   "language": "python",
   "name": "python3"
  },
  "language_info": {
   "codemirror_mode": {
    "name": "ipython",
    "version": 3
   },
   "file_extension": ".py",
   "mimetype": "text/x-python",
   "name": "python",
   "nbconvert_exporter": "python",
   "pygments_lexer": "ipython3",
   "version": "3.12.5"
  }
 },
 "nbformat": 4,
 "nbformat_minor": 2
}
