{
 "cells": [
  {
   "cell_type": "code",
   "execution_count": 1,
   "metadata": {},
   "outputs": [],
   "source": [
    "import pandas as pd\n",
    "import glob\n"
   ]
  },
  {
   "cell_type": "markdown",
   "metadata": {},
   "source": [
    "# 1. Reading files from directory\n",
    "\n",
    "- remove duplicated contextual texts\n",
    "- store dataframes into dict\n"
   ]
  },
  {
   "cell_type": "code",
   "execution_count": 8,
   "metadata": {},
   "outputs": [],
   "source": [
    "files = glob.glob(\"us_2024_news.csv/*.csv\")\n",
    "data_columns = [\"DateTime\",\"URL\",\"Title\",\"SharingImage\",\"LangCode\",\"DocTone\",\"DomainCountryCode\",\"Location\",\"Lat\",\"Lon\",\"CountryCode\",\"Adm1Code\",\"Adm2Code\",\"GeoType\",\"ContextualText\",\"the_geom\",\"date\"]\n",
    "\n",
    "file_df_dict = {} #key: idx, value: dataframe\n",
    "file_register = {} # key: idx, value: filename\n",
    "\n",
    "idx = 0\n",
    "for fileDir in files:\n",
    "    fileName = fileDir.split(\"/\")[-1]\n",
    "    fileName = fileName.split(\".\")[0]\n",
    "    file_register[idx] = [fileName,fileDir]\n",
    "\n",
    "    df = pd.read_csv(fileDir,header=None,low_memory=False,on_bad_lines='skip')\n",
    "    df.columns = data_columns\n",
    "    df = df.drop_duplicates(\"ContextualText\")\n",
    "\n",
    "    file_df_dict[idx] = df\n",
    "\n",
    "    idx+=1\n"
   ]
  },
  {
   "cell_type": "markdown",
   "metadata": {},
   "source": [
    "## 2. Combine all news_data into one df"
   ]
  },
  {
   "cell_type": "code",
   "execution_count": 9,
   "metadata": {},
   "outputs": [],
   "source": [
    "file_idx_list = list(file_register.keys())\n",
    "combined_df = pd.DataFrame(columns=data_columns)\n",
    "for fileIdx in file_idx_list:\n",
    "    combined_df = pd.concat([combined_df,file_df_dict[fileIdx]],axis=0)\n",
    "    \n",
    "\n"
   ]
  },
  {
   "cell_type": "code",
   "execution_count": 14,
   "metadata": {},
   "outputs": [],
   "source": [
    "combined_df['DateTime'] = pd.to_datetime(combined_df['DateTime'])\n",
    "combined_df['Date_hourly'] = combined_df['DateTime'].dt.strftime('%Y%m%d%H')\n",
    "\n"
   ]
  },
  {
   "cell_type": "code",
   "execution_count": 16,
   "metadata": {},
   "outputs": [],
   "source": [
    "hr_breakdown_df = combined_df.groupby(\"Date_hourly\").size()"
   ]
  },
  {
   "cell_type": "markdown",
   "metadata": {},
   "source": [
    "## 3. Get sample data by each hour"
   ]
  },
  {
   "cell_type": "code",
   "execution_count": 23,
   "metadata": {},
   "outputs": [],
   "source": [
    "sampled_news_df = combined_df.groupby('Date_hourly').apply(lambda x: x.sample(n=50, random_state=1)).reset_index(drop=True)\n"
   ]
  },
  {
   "cell_type": "code",
   "execution_count": 77,
   "metadata": {},
   "outputs": [
    {
     "data": {
      "text/html": [
       "<div>\n",
       "<style scoped>\n",
       "    .dataframe tbody tr th:only-of-type {\n",
       "        vertical-align: middle;\n",
       "    }\n",
       "\n",
       "    .dataframe tbody tr th {\n",
       "        vertical-align: top;\n",
       "    }\n",
       "\n",
       "    .dataframe thead th {\n",
       "        text-align: right;\n",
       "    }\n",
       "</style>\n",
       "<table border=\"1\" class=\"dataframe\">\n",
       "  <thead>\n",
       "    <tr style=\"text-align: right;\">\n",
       "      <th></th>\n",
       "      <th>DateTime</th>\n",
       "      <th>ContextualText</th>\n",
       "    </tr>\n",
       "  </thead>\n",
       "  <tbody>\n",
       "    <tr>\n",
       "      <th>0</th>\n",
       "      <td>2024-01-01 00:30:00+08:00</td>\n",
       "      <td>will appeal soon to the u s supreme court wher...</td>\n",
       "    </tr>\n",
       "    <tr>\n",
       "      <th>1</th>\n",
       "      <td>2024-01-01 00:30:00+08:00</td>\n",
       "      <td>lake wjon news two men were rescued from ann l...</td>\n",
       "    </tr>\n",
       "    <tr>\n",
       "      <th>2</th>\n",
       "      <td>2024-01-01 00:30:00+08:00</td>\n",
       "      <td>coach from highland county earning honors jenn...</td>\n",
       "    </tr>\n",
       "    <tr>\n",
       "      <th>3</th>\n",
       "      <td>2024-01-01 00:00:00+08:00</td>\n",
       "      <td>after meeting until the board voted to pass th...</td>\n",
       "    </tr>\n",
       "    <tr>\n",
       "      <th>4</th>\n",
       "      <td>2024-01-01 00:45:00+08:00</td>\n",
       "      <td>hollywood actress isla fisher who is one of th...</td>\n",
       "    </tr>\n",
       "    <tr>\n",
       "      <th>...</th>\n",
       "      <td>...</td>\n",
       "      <td>...</td>\n",
       "    </tr>\n",
       "    <tr>\n",
       "      <th>196845</th>\n",
       "      <td>2024-10-18 07:45:00+08:00</td>\n",
       "      <td>students are doing on school issued devices an...</td>\n",
       "    </tr>\n",
       "    <tr>\n",
       "      <th>196846</th>\n",
       "      <td>2024-10-18 07:45:00+08:00</td>\n",
       "      <td>violence in our country in america trans and g...</td>\n",
       "    </tr>\n",
       "    <tr>\n",
       "      <th>196847</th>\n",
       "      <td>2024-10-18 07:45:00+08:00</td>\n",
       "      <td>argument that she was framed before the trial ...</td>\n",
       "    </tr>\n",
       "    <tr>\n",
       "      <th>196848</th>\n",
       "      <td>2024-10-18 07:45:00+08:00</td>\n",
       "      <td>writing postcards during texas state board of ...</td>\n",
       "    </tr>\n",
       "    <tr>\n",
       "      <th>196849</th>\n",
       "      <td>2024-10-18 07:45:00+08:00</td>\n",
       "      <td>board to stop people outside of our communitie...</td>\n",
       "    </tr>\n",
       "  </tbody>\n",
       "</table>\n",
       "<p>196850 rows × 2 columns</p>\n",
       "</div>"
      ],
      "text/plain": [
       "                        DateTime   \n",
       "0      2024-01-01 00:30:00+08:00  \\\n",
       "1      2024-01-01 00:30:00+08:00   \n",
       "2      2024-01-01 00:30:00+08:00   \n",
       "3      2024-01-01 00:00:00+08:00   \n",
       "4      2024-01-01 00:45:00+08:00   \n",
       "...                          ...   \n",
       "196845 2024-10-18 07:45:00+08:00   \n",
       "196846 2024-10-18 07:45:00+08:00   \n",
       "196847 2024-10-18 07:45:00+08:00   \n",
       "196848 2024-10-18 07:45:00+08:00   \n",
       "196849 2024-10-18 07:45:00+08:00   \n",
       "\n",
       "                                           ContextualText  \n",
       "0       will appeal soon to the u s supreme court wher...  \n",
       "1       lake wjon news two men were rescued from ann l...  \n",
       "2       coach from highland county earning honors jenn...  \n",
       "3       after meeting until the board voted to pass th...  \n",
       "4       hollywood actress isla fisher who is one of th...  \n",
       "...                                                   ...  \n",
       "196845  students are doing on school issued devices an...  \n",
       "196846  violence in our country in america trans and g...  \n",
       "196847  argument that she was framed before the trial ...  \n",
       "196848  writing postcards during texas state board of ...  \n",
       "196849  board to stop people outside of our communitie...  \n",
       "\n",
       "[196850 rows x 2 columns]"
      ]
     },
     "execution_count": 77,
     "metadata": {},
     "output_type": "execute_result"
    }
   ],
   "source": [
    "sampled_news_df"
   ]
  },
  {
   "cell_type": "code",
   "execution_count": 29,
   "metadata": {},
   "outputs": [
    {
     "name": "stdout",
     "output_type": "stream",
     "text": [
      "DataFrame split into 100 files successfully.\n"
     ]
    }
   ],
   "source": [
    "#Writing sampled data into 100 different files\n",
    "# Number of rows in each file\n",
    "rows_per_file = len(sampled_news_df) // 100  # This will give 100 rows per file if there are exactly 10000 rows\n",
    "\n",
    "# Save each chunk to a separate file\n",
    "for i in range(100):\n",
    "    start_index = i * rows_per_file\n",
    "    end_index = (i + 1) * rows_per_file if i < 99 else len(sampled_news_df)  # Last file may take the remainder\n",
    "    chunk = sampled_news_df.iloc[start_index:end_index]\n",
    "    chunk = chunk[data_columns]\n",
    "    chunk.to_csv(f'us_2024_news_sampled/sampled_file_{i + 1}.csv', index=False,header=None)\n",
    "\n",
    "print(\"DataFrame split into 100 files successfully.\")"
   ]
  },
  {
   "cell_type": "markdown",
   "metadata": {},
   "source": [
    "## 4. Merge Data source with pagerank score"
   ]
  },
  {
   "cell_type": "code",
   "execution_count": 39,
   "metadata": {},
   "outputs": [],
   "source": [
    "combined_df[\"website\"] = combined_df[\"URL\"].apply(lambda x:x.split(\"/\")[2])"
   ]
  },
  {
   "cell_type": "code",
   "execution_count": 56,
   "metadata": {},
   "outputs": [
    {
     "data": {
      "text/html": [
       "<div>\n",
       "<style scoped>\n",
       "    .dataframe tbody tr th:only-of-type {\n",
       "        vertical-align: middle;\n",
       "    }\n",
       "\n",
       "    .dataframe tbody tr th {\n",
       "        vertical-align: top;\n",
       "    }\n",
       "\n",
       "    .dataframe thead th {\n",
       "        text-align: right;\n",
       "    }\n",
       "</style>\n",
       "<table border=\"1\" class=\"dataframe\">\n",
       "  <thead>\n",
       "    <tr style=\"text-align: right;\">\n",
       "      <th></th>\n",
       "      <th>domain</th>\n",
       "      <th>page_rank_decimal</th>\n",
       "    </tr>\n",
       "  </thead>\n",
       "  <tbody>\n",
       "    <tr>\n",
       "      <th>0</th>\n",
       "      <td>krnb.com</td>\n",
       "      <td>5.21</td>\n",
       "    </tr>\n",
       "    <tr>\n",
       "      <th>1</th>\n",
       "      <td>dailytarheel.com</td>\n",
       "      <td>5.29</td>\n",
       "    </tr>\n",
       "    <tr>\n",
       "      <th>2</th>\n",
       "      <td>gaytimes.co.uk</td>\n",
       "      <td>5.26</td>\n",
       "    </tr>\n",
       "    <tr>\n",
       "      <th>3</th>\n",
       "      <td>lindenlink.com</td>\n",
       "      <td>3.42</td>\n",
       "    </tr>\n",
       "    <tr>\n",
       "      <th>4</th>\n",
       "      <td>megatucson.iheart.com</td>\n",
       "      <td>2.87</td>\n",
       "    </tr>\n",
       "    <tr>\n",
       "      <th>...</th>\n",
       "      <td>...</td>\n",
       "      <td>...</td>\n",
       "    </tr>\n",
       "    <tr>\n",
       "      <th>49</th>\n",
       "      <td>ls-eng.obozrevatel.com</td>\n",
       "      <td>2.71</td>\n",
       "    </tr>\n",
       "    <tr>\n",
       "      <th>50</th>\n",
       "      <td>eastendbeacon.com</td>\n",
       "      <td>4.79</td>\n",
       "    </tr>\n",
       "    <tr>\n",
       "      <th>51</th>\n",
       "      <td>997kmjj.com</td>\n",
       "      <td>2.77</td>\n",
       "    </tr>\n",
       "    <tr>\n",
       "      <th>52</th>\n",
       "      <td>kbtx.com</td>\n",
       "      <td>5.18</td>\n",
       "    </tr>\n",
       "    <tr>\n",
       "      <th>53</th>\n",
       "      <td>autonomija.info</td>\n",
       "      <td>4.84</td>\n",
       "    </tr>\n",
       "  </tbody>\n",
       "</table>\n",
       "<p>16054 rows × 2 columns</p>\n",
       "</div>"
      ],
      "text/plain": [
       "                    domain  page_rank_decimal\n",
       "0                 krnb.com               5.21\n",
       "1         dailytarheel.com               5.29\n",
       "2           gaytimes.co.uk               5.26\n",
       "3           lindenlink.com               3.42\n",
       "4    megatucson.iheart.com               2.87\n",
       "..                     ...                ...\n",
       "49  ls-eng.obozrevatel.com               2.71\n",
       "50       eastendbeacon.com               4.79\n",
       "51             997kmjj.com               2.77\n",
       "52                kbtx.com               5.18\n",
       "53         autonomija.info               4.84\n",
       "\n",
       "[16054 rows x 2 columns]"
      ]
     },
     "execution_count": 56,
     "metadata": {},
     "output_type": "execute_result"
    }
   ],
   "source": [
    "page_rank_df = pd.read_csv(\"page_rank_score/page_rank_domains.csv\",index_col=0)\n",
    "# page_rank_df.set_index(\"domain\",inplace=True)\n",
    "page_rank_df = page_rank_df[[\"domain\",\"page_rank_decimal\"]]\n",
    "page_rank_df"
   ]
  },
  {
   "cell_type": "code",
   "execution_count": 57,
   "metadata": {},
   "outputs": [],
   "source": [
    "combined_df = combined_df.merge(page_rank_df,left_on=\"website\",right_on=\"domain\")"
   ]
  },
  {
   "cell_type": "code",
   "execution_count": 63,
   "metadata": {},
   "outputs": [],
   "source": [
    "relevant_df = combined_df[[\"DateTime\",\"URL\",\"Title\",\"DocTone\",\"Location\",\"ContextualText\",\"Date_hourly\",\"website\",\"page_rank_decimal\"]]"
   ]
  },
  {
   "cell_type": "code",
   "execution_count": 65,
   "metadata": {},
   "outputs": [],
   "source": [
    "relevant_df.to_csv(\"main_us_data.csv\",index=False)"
   ]
  },
  {
   "cell_type": "code",
   "execution_count": 68,
   "metadata": {},
   "outputs": [],
   "source": [
    "relevant_df = relevant_df.dropna(subset=[\"ContextualText\"])\n",
    "relevant_df.to_csv(\"main_us_data.csv\",index=False)"
   ]
  },
  {
   "cell_type": "code",
   "execution_count": 73,
   "metadata": {},
   "outputs": [
    {
     "data": {
      "text/plain": [
       "7139"
      ]
     },
     "execution_count": 73,
     "metadata": {},
     "output_type": "execute_result"
    }
   ],
   "source": [
    "len(list(set(list(combined_df[\"website\"]))))"
   ]
  },
  {
   "cell_type": "code",
   "execution_count": 76,
   "metadata": {},
   "outputs": [
    {
     "data": {
      "text/html": [
       "<div>\n",
       "<style scoped>\n",
       "    .dataframe tbody tr th:only-of-type {\n",
       "        vertical-align: middle;\n",
       "    }\n",
       "\n",
       "    .dataframe tbody tr th {\n",
       "        vertical-align: top;\n",
       "    }\n",
       "\n",
       "    .dataframe thead th {\n",
       "        text-align: right;\n",
       "    }\n",
       "</style>\n",
       "<table border=\"1\" class=\"dataframe\">\n",
       "  <thead>\n",
       "    <tr style=\"text-align: right;\">\n",
       "      <th></th>\n",
       "      <th>DateTime</th>\n",
       "      <th>URL</th>\n",
       "      <th>Title</th>\n",
       "      <th>SharingImage</th>\n",
       "      <th>LangCode</th>\n",
       "      <th>DocTone</th>\n",
       "      <th>DomainCountryCode</th>\n",
       "      <th>Location</th>\n",
       "      <th>Lat</th>\n",
       "      <th>Lon</th>\n",
       "      <th>...</th>\n",
       "      <th>Adm1Code</th>\n",
       "      <th>Adm2Code</th>\n",
       "      <th>GeoType</th>\n",
       "      <th>ContextualText</th>\n",
       "      <th>the_geom</th>\n",
       "      <th>date</th>\n",
       "      <th>Date_hourly</th>\n",
       "      <th>website</th>\n",
       "      <th>domain</th>\n",
       "      <th>page_rank_decimal</th>\n",
       "    </tr>\n",
       "  </thead>\n",
       "  <tbody>\n",
       "  </tbody>\n",
       "</table>\n",
       "<p>0 rows × 21 columns</p>\n",
       "</div>"
      ],
      "text/plain": [
       "Empty DataFrame\n",
       "Columns: [DateTime, URL, Title, SharingImage, LangCode, DocTone, DomainCountryCode, Location, Lat, Lon, CountryCode, Adm1Code, Adm2Code, GeoType, ContextualText, the_geom, date, Date_hourly, website, domain, page_rank_decimal]\n",
       "Index: []\n",
       "\n",
       "[0 rows x 21 columns]"
      ]
     },
     "execution_count": 76,
     "metadata": {},
     "output_type": "execute_result"
    }
   ],
   "source": [
    "combined_df.query(\"website =='www.beckershospitalreview.com'\")"
   ]
  }
 ],
 "metadata": {
  "kernelspec": {
   "display_name": "Python 3",
   "language": "python",
   "name": "python3"
  },
  "language_info": {
   "codemirror_mode": {
    "name": "ipython",
    "version": 3
   },
   "file_extension": ".py",
   "mimetype": "text/x-python",
   "name": "python",
   "nbconvert_exporter": "python",
   "pygments_lexer": "ipython3",
   "version": "3.11.1"
  }
 },
 "nbformat": 4,
 "nbformat_minor": 2
}
