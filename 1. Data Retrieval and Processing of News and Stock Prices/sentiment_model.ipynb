{
 "cells": [
  {
   "cell_type": "code",
   "execution_count": 98,
   "metadata": {},
   "outputs": [],
   "source": [
    "import pandas as pd\n",
    "import torch\n",
    "from transformers import AutoTokenizer, BertForSequenceClassification\n",
    "import csv\n",
    "import numpy as np\n",
    "import glob\n",
    "from multiprocessing.pool import ThreadPool\n",
    "import multiprocessing"
   ]
  },
  {
   "cell_type": "markdown",
   "metadata": {},
   "source": [
    "## 1. Reading csv"
   ]
  },
  {
   "cell_type": "code",
   "execution_count": 90,
   "metadata": {},
   "outputs": [],
   "source": [
    "# UDF for BERT-based sentiment classification\n",
    "def sentimentWithBert(input_text):\n",
    "\n",
    "    tokenizer = AutoTokenizer.from_pretrained(\"ProsusAI/finbert\")\n",
    "    model = BertForSequenceClassification.from_pretrained(\"ProsusAI/finbert\")\n",
    "\n",
    "    inputs = tokenizer(input_text, padding=True, truncation=True, return_tensors='pt')\n",
    "    outputs = model(**inputs)\n",
    "    predictions = torch.nn.functional.softmax(outputs.logits, dim=-1)\n",
    "    # index_of_largest = torch.argmax(predictions).item()\n",
    "    # sentiments = ['positive', 'negative', 'neutral']\n",
    "    \n",
    "    # sentiment = sentiments[index_of_largest]\n",
    "    \n",
    "    return predictions.detach().numpy()[0].tolist()"
   ]
  },
  {
   "cell_type": "code",
   "execution_count": 91,
   "metadata": {},
   "outputs": [
    {
     "data": {
      "text/plain": [
       "(0,\n",
       " 'part-00296-57f7270d-f9cc-406c-8b8c-af8163fc3683-c000',\n",
       " 'us_2024_news.csv/part-00296-57f7270d-f9cc-406c-8b8c-af8163fc3683-c000.csv')"
      ]
     },
     "execution_count": 91,
     "metadata": {},
     "output_type": "execute_result"
    }
   ],
   "source": [
    "files = glob.glob(\"us_2024_news.csv/*.csv\")\n",
    "fileInfoObjectList = []\n",
    "idx = 0\n",
    "for file in files:\n",
    "    fileName = file.split(\"/\")[-1]\n",
    "    fileName = fileName.split(\".\")[0]\n",
    "    fileInfoObjectList.append((idx,fileName,file))\n",
    "    idx+=1\n",
    "\n",
    "\n",
    "fileInfoObjectList[0]"
   ]
  },
  {
   "cell_type": "code",
   "execution_count": 95,
   "metadata": {},
   "outputs": [],
   "source": [
    "def generateSentiment(fileInfo):\n",
    "    idx = fileInfo[0]\n",
    "    fileName = fileInfo[1]\n",
    "    fileDir = fileInfo[2]\n",
    "\n",
    "    try:\n",
    "        raw_df = pd.read_csv(fileDir,header=None,on_bad_lines='skip',low_memory=False)\n",
    "        df = raw_df.copy().head(1000)\n",
    "        df.columns = [\"DateTime\",\"URL\",\"Title\",\"SharingImage\",\"LangCode\",\"DocTone\",\"DomainCountryCode\",\"Location\",\"Lat\",\"Lon\",\"CountryCode\",\"Adm1Code\",\"Adm2Code\",\"GeoType\",\"ContextualText\",\"the_geom\",\"date\"]\n",
    "        df[\"prediction\"] = df.apply(lambda row : sentimentWithBert(row[\"ContextualText\"]),axis=1)\n",
    "        df[\"positive_fb\"] = df.apply(lambda row : row[\"prediction\"][0],axis=1)\n",
    "        df[\"negative_fb\"] = df.apply(lambda row : row[\"prediction\"][1],axis=1)\n",
    "        df[\"neutral_fb\"] = df.apply(lambda row : row[\"prediction\"][2],axis=1)\n",
    "        df.to_csv(f\"sentiment_processed/{fileName}_processed.csv\",index=False)\n",
    "        failure_msg = \"Succeeded\"\n",
    "        print(f\"{idx} {fileName} Succeeded\")\n",
    "        \n",
    "    except Exception as e:\n",
    "        failure_msg = f\"{idx} file: {fileDir} failed with error: {e}\"\n",
    "        print(failure_msg)\n",
    "    \n",
    "    return (idx,fileDir,failure_msg)"
   ]
  },
  {
   "cell_type": "code",
   "execution_count": 96,
   "metadata": {},
   "outputs": [
    {
     "name": "stdout",
     "output_type": "stream",
     "text": [
      "0 part-00296-57f7270d-f9cc-406c-8b8c-af8163fc3683-c000 Succeeded\n"
     ]
    },
    {
     "data": {
      "text/plain": [
       "(0,\n",
       " 'us_2024_news.csv/part-00296-57f7270d-f9cc-406c-8b8c-af8163fc3683-c000.csv',\n",
       " 'Succeeded')"
      ]
     },
     "execution_count": 96,
     "metadata": {},
     "output_type": "execute_result"
    }
   ],
   "source": [
    "generateSentiment(fileInfoObjectList[0])"
   ]
  },
  {
   "cell_type": "code",
   "execution_count": 93,
   "metadata": {},
   "outputs": [
    {
     "name": "stdout",
     "output_type": "stream",
     "text": [
      "30 part-00738-57f7270d-f9cc-406c-8b8c-af8163fc3683-c000 Succeeded\n",
      "40 part-00095-57f7270d-f9cc-406c-8b8c-af8163fc3683-c000 Succeeded\n",
      "0 part-00296-57f7270d-f9cc-406c-8b8c-af8163fc3683-c000 Succeeded\n",
      "10 part-00015-57f7270d-f9cc-406c-8b8c-af8163fc3683-c000 Succeeded\n",
      "20 part-00957-57f7270d-f9cc-406c-8b8c-af8163fc3683-c000 Succeeded\n",
      "35 part-00235-57f7270d-f9cc-406c-8b8c-af8163fc3683-c000 Succeeded\n",
      "15 part-00925-57f7270d-f9cc-406c-8b8c-af8163fc3683-c000 Succeeded\n",
      "5 part-00768-57f7270d-f9cc-406c-8b8c-af8163fc3683-c000 Succeeded\n",
      "25 part-00717-57f7270d-f9cc-406c-8b8c-af8163fc3683-c000 Succeeded\n",
      "41 part-00673-57f7270d-f9cc-406c-8b8c-af8163fc3683-c000 Succeeded\n",
      "45 part-00772-57f7270d-f9cc-406c-8b8c-af8163fc3683-c000 Succeeded\n",
      "31 part-00502-57f7270d-f9cc-406c-8b8c-af8163fc3683-c000 Succeeded\n",
      "1 part-00246-57f7270d-f9cc-406c-8b8c-af8163fc3683-c000 Succeeded\n",
      "36 part-00264-57f7270d-f9cc-406c-8b8c-af8163fc3683-c000 Succeeded\n",
      "11 part-00750-57f7270d-f9cc-406c-8b8c-af8163fc3683-c000 Succeeded\n",
      "21 part-00195-57f7270d-f9cc-406c-8b8c-af8163fc3683-c000 Succeeded\n",
      "42 part-00018-57f7270d-f9cc-406c-8b8c-af8163fc3683-c000 Succeeded\n",
      "26 part-00268-57f7270d-f9cc-406c-8b8c-af8163fc3683-c000 Succeeded\n",
      "6 part-00582-57f7270d-f9cc-406c-8b8c-af8163fc3683-c000 Succeeded\n",
      "2 part-00739-57f7270d-f9cc-406c-8b8c-af8163fc3683-c000 Succeeded\n",
      "32 part-00890-57f7270d-f9cc-406c-8b8c-af8163fc3683-c000 Succeeded\n",
      "16 part-00350-57f7270d-f9cc-406c-8b8c-af8163fc3683-c000 Succeeded\n",
      "46 part-00115-57f7270d-f9cc-406c-8b8c-af8163fc3683-c000 Succeeded\n",
      "37 part-00338-57f7270d-f9cc-406c-8b8c-af8163fc3683-c000 Succeeded\n",
      "22 part-00978-57f7270d-f9cc-406c-8b8c-af8163fc3683-c000 Succeeded\n",
      "12 part-00448-57f7270d-f9cc-406c-8b8c-af8163fc3683-c000 Succeeded\n",
      "27 part-00811-57f7270d-f9cc-406c-8b8c-af8163fc3683-c000 Succeeded\n",
      "33 part-00420-57f7270d-f9cc-406c-8b8c-af8163fc3683-c000 Succeeded\n",
      "38 part-00119-57f7270d-f9cc-406c-8b8c-af8163fc3683-c000 Succeeded\n",
      "7 part-00940-57f7270d-f9cc-406c-8b8c-af8163fc3683-c000 Succeeded\n",
      "3 part-00002-57f7270d-f9cc-406c-8b8c-af8163fc3683-c000 Succeeded\n",
      "17 part-00272-57f7270d-f9cc-406c-8b8c-af8163fc3683-c000 Succeeded\n",
      "47 part-00986-57f7270d-f9cc-406c-8b8c-af8163fc3683-c000 Succeeded\n",
      "43 part-00723-57f7270d-f9cc-406c-8b8c-af8163fc3683-c000 Succeeded\n",
      "23 part-00145-57f7270d-f9cc-406c-8b8c-af8163fc3683-c000 Succeeded\n",
      "13 part-00672-57f7270d-f9cc-406c-8b8c-af8163fc3683-c000 Succeeded\n",
      "28 part-00583-57f7270d-f9cc-406c-8b8c-af8163fc3683-c000 Succeeded\n",
      "34 part-00616-57f7270d-f9cc-406c-8b8c-af8163fc3683-c000 Succeeded\n",
      "4 part-00171-57f7270d-f9cc-406c-8b8c-af8163fc3683-c000 Succeeded\n",
      "39 part-00878-57f7270d-f9cc-406c-8b8c-af8163fc3683-c000 Succeeded\n",
      "8 part-00368-57f7270d-f9cc-406c-8b8c-af8163fc3683-c000 Succeeded\n",
      "18 part-00929-57f7270d-f9cc-406c-8b8c-af8163fc3683-c000 Succeeded\n",
      "48 part-00099-57f7270d-f9cc-406c-8b8c-af8163fc3683-c000 Succeeded\n",
      "14 part-00623-57f7270d-f9cc-406c-8b8c-af8163fc3683-c000 Succeeded\n",
      "29 part-00297-57f7270d-f9cc-406c-8b8c-af8163fc3683-c000 Succeeded\n",
      "24 part-00216-57f7270d-f9cc-406c-8b8c-af8163fc3683-c000 Succeeded\n",
      "44 part-00037-57f7270d-f9cc-406c-8b8c-af8163fc3683-c000 Succeeded\n",
      "55 part-00244-57f7270d-f9cc-406c-8b8c-af8163fc3683-c000 Succeeded\n",
      "50 part-00395-57f7270d-f9cc-406c-8b8c-af8163fc3683-c000 Succeeded\n",
      "9 part-00856-57f7270d-f9cc-406c-8b8c-af8163fc3683-c000 Succeeded\n",
      "49 part-00942-57f7270d-f9cc-406c-8b8c-af8163fc3683-c000 Succeeded\n",
      "19 part-00380-57f7270d-f9cc-406c-8b8c-af8163fc3683-c000 Succeeded\n",
      "65 part-00782-57f7270d-f9cc-406c-8b8c-af8163fc3683-c000 Succeeded\n",
      "60 part-00173-57f7270d-f9cc-406c-8b8c-af8163fc3683-c000 Succeeded\n",
      "56 part-00318-57f7270d-f9cc-406c-8b8c-af8163fc3683-c000 Succeeded\n",
      "80 part-00808-57f7270d-f9cc-406c-8b8c-af8163fc3683-c000 Succeeded\n",
      "75 part-00123-57f7270d-f9cc-406c-8b8c-af8163fc3683-c000 Succeeded\n",
      "90 part-00162-57f7270d-f9cc-406c-8b8c-af8163fc3683-c000 Succeeded\n",
      "70 part-00266-57f7270d-f9cc-406c-8b8c-af8163fc3683-c000 Succeeded\n",
      "85 part-00546-57f7270d-f9cc-406c-8b8c-af8163fc3683-c000 Succeeded\n",
      "51 part-00860-57f7270d-f9cc-406c-8b8c-af8163fc3683-c000 Succeeded\n",
      "95 part-00255-57f7270d-f9cc-406c-8b8c-af8163fc3683-c000 Succeeded\n",
      "57 part-00000-57f7270d-f9cc-406c-8b8c-af8163fc3683-c000 Succeeded\n",
      "61 part-00270-57f7270d-f9cc-406c-8b8c-af8163fc3683-c000 Succeeded\n",
      "66 part-00959-57f7270d-f9cc-406c-8b8c-af8163fc3683-c000 Succeeded\n",
      "81 part-00035-57f7270d-f9cc-406c-8b8c-af8163fc3683-c000 Succeeded\n",
      "76 part-00744-57f7270d-f9cc-406c-8b8c-af8163fc3683-c000 Succeeded\n",
      "91 part-00591-57f7270d-f9cc-406c-8b8c-af8163fc3683-c000 Succeeded\n",
      "71 part-00767-57f7270d-f9cc-406c-8b8c-af8163fc3683-c000 Succeeded\n",
      "52 part-00522-57f7270d-f9cc-406c-8b8c-af8163fc3683-c000 Succeeded\n",
      "58 part-00580-57f7270d-f9cc-406c-8b8c-af8163fc3683-c000 Succeeded\n",
      "67 part-00805-57f7270d-f9cc-406c-8b8c-af8163fc3683-c000 Succeeded\n",
      "62 part-00720-57f7270d-f9cc-406c-8b8c-af8163fc3683-c000 Succeeded\n",
      "82 part-00468-57f7270d-f9cc-406c-8b8c-af8163fc3683-c000 Succeeded\n",
      "86 part-00370-57f7270d-f9cc-406c-8b8c-af8163fc3683-c000 Succeeded\n",
      "77 part-00367-57f7270d-f9cc-406c-8b8c-af8163fc3683-c000 Succeeded\n",
      "92 part-00852-57f7270d-f9cc-406c-8b8c-af8163fc3683-c000 Succeeded\n",
      "96 part-00063-57f7270d-f9cc-406c-8b8c-af8163fc3683-c000 Succeeded\n",
      "72 part-00715-57f7270d-f9cc-406c-8b8c-af8163fc3683-c000 Succeeded\n",
      "53 part-00831-57f7270d-f9cc-406c-8b8c-af8163fc3683-c000 Succeeded\n",
      "59 part-00081-57f7270d-f9cc-406c-8b8c-af8163fc3683-c000 Succeeded\n",
      "83 part-00047-57f7270d-f9cc-406c-8b8c-af8163fc3683-c000 Succeeded\n",
      "63 part-00516-57f7270d-f9cc-406c-8b8c-af8163fc3683-c000 Succeeded\n",
      "93 part-00011-57f7270d-f9cc-406c-8b8c-af8163fc3683-c000 Succeeded\n",
      "78 part-00295-57f7270d-f9cc-406c-8b8c-af8163fc3683-c000 Succeeded\n",
      "68 part-00038-57f7270d-f9cc-406c-8b8c-af8163fc3683-c000 Succeeded\n",
      "73 part-00172-57f7270d-f9cc-406c-8b8c-af8163fc3683-c000 Succeeded\n",
      "97 part-00440-57f7270d-f9cc-406c-8b8c-af8163fc3683-c000 Succeeded\n",
      "84 part-00538-57f7270d-f9cc-406c-8b8c-af8163fc3683-c000 Succeeded\n",
      "87 part-00909-57f7270d-f9cc-406c-8b8c-af8163fc3683-c000 Succeeded\n",
      "54 part-00501-57f7270d-f9cc-406c-8b8c-af8163fc3683-c000 Succeeded\n",
      "64 part-00283-57f7270d-f9cc-406c-8b8c-af8163fc3683-c000 Succeeded\n",
      "100 part-00709-57f7270d-f9cc-406c-8b8c-af8163fc3683-c000 Succeeded\n",
      "94 part-00676-57f7270d-f9cc-406c-8b8c-af8163fc3683-c000 Succeeded\n",
      "69 part-00621-57f7270d-f9cc-406c-8b8c-af8163fc3683-c000 Succeeded\n",
      "79 part-00876-57f7270d-f9cc-406c-8b8c-af8163fc3683-c000 Succeeded\n",
      "98 part-00305-57f7270d-f9cc-406c-8b8c-af8163fc3683-c000 Succeeded\n",
      "88 part-00204-57f7270d-f9cc-406c-8b8c-af8163fc3683-c000 Succeeded\n",
      "105 part-00213-57f7270d-f9cc-406c-8b8c-af8163fc3683-c000 Succeeded\n",
      "74 part-00319-57f7270d-f9cc-406c-8b8c-af8163fc3683-c000 Succeeded\n",
      "101 part-00276-57f7270d-f9cc-406c-8b8c-af8163fc3683-c000 Succeeded\n",
      "110 part-00124-57f7270d-f9cc-406c-8b8c-af8163fc3683-c000 Succeeded\n",
      "115 part-00205-57f7270d-f9cc-406c-8b8c-af8163fc3683-c000 Succeeded\n",
      "125 part-00293-57f7270d-f9cc-406c-8b8c-af8163fc3683-c000 Succeeded\n",
      "120 part-00288-57f7270d-f9cc-406c-8b8c-af8163fc3683-c000 Succeeded\n",
      "89 part-00659-57f7270d-f9cc-406c-8b8c-af8163fc3683-c000 Succeeded\n",
      "130 part-00937-57f7270d-f9cc-406c-8b8c-af8163fc3683-c000 Succeeded\n",
      "106 part-00586-57f7270d-f9cc-406c-8b8c-af8163fc3683-c000 Succeeded\n",
      "116 part-00327-57f7270d-f9cc-406c-8b8c-af8163fc3683-c000 Succeeded\n",
      "135 part-00129-57f7270d-f9cc-406c-8b8c-af8163fc3683-c000 Succeeded\n",
      "99 part-00354-57f7270d-f9cc-406c-8b8c-af8163fc3683-c000 Succeeded\n",
      "102 part-00208-57f7270d-f9cc-406c-8b8c-af8163fc3683-c000 Succeeded\n",
      "111 part-00006-57f7270d-f9cc-406c-8b8c-af8163fc3683-c000 Succeeded\n",
      "121 part-00821-57f7270d-f9cc-406c-8b8c-af8163fc3683-c000 Succeeded\n",
      "126 part-00424-57f7270d-f9cc-406c-8b8c-af8163fc3683-c000 Succeeded\n",
      "140 part-00030-57f7270d-f9cc-406c-8b8c-af8163fc3683-c000 Succeeded\n",
      "131 part-00525-57f7270d-f9cc-406c-8b8c-af8163fc3683-c000 Succeeded\n",
      "107 part-00967-57f7270d-f9cc-406c-8b8c-af8163fc3683-c000 Succeeded\n",
      "117 part-00920-57f7270d-f9cc-406c-8b8c-af8163fc3683-c000 Succeeded136 part-00225-57f7270d-f9cc-406c-8b8c-af8163fc3683-c000 Succeeded\n",
      "\n",
      "145 part-00232-57f7270d-f9cc-406c-8b8c-af8163fc3683-c000 Succeeded\n",
      "103 part-00384-57f7270d-f9cc-406c-8b8c-af8163fc3683-c000 Succeeded\n",
      "112 part-00731-57f7270d-f9cc-406c-8b8c-af8163fc3683-c000 Succeeded\n",
      "127 part-00056-57f7270d-f9cc-406c-8b8c-af8163fc3683-c000 Succeeded\n",
      "141 part-00092-57f7270d-f9cc-406c-8b8c-af8163fc3683-c000 Succeeded\n",
      "122 part-00226-57f7270d-f9cc-406c-8b8c-af8163fc3683-c000 Succeeded\n",
      "108 part-00078-57f7270d-f9cc-406c-8b8c-af8163fc3683-c000 Succeeded\n",
      "137 part-00307-57f7270d-f9cc-406c-8b8c-af8163fc3683-c000 Succeeded\n",
      "132 part-00407-57f7270d-f9cc-406c-8b8c-af8163fc3683-c000 Succeeded\n",
      "113 part-00156-57f7270d-f9cc-406c-8b8c-af8163fc3683-c000 Succeeded\n",
      "118 part-00091-57f7270d-f9cc-406c-8b8c-af8163fc3683-c000 Succeeded\n",
      "128 part-00999-57f7270d-f9cc-406c-8b8c-af8163fc3683-c000 Succeeded\n",
      "104 part-00331-57f7270d-f9cc-406c-8b8c-af8163fc3683-c000 Succeeded\n",
      "109 part-00507-57f7270d-f9cc-406c-8b8c-af8163fc3683-c000 Succeeded\n",
      "123 part-00759-57f7270d-f9cc-406c-8b8c-af8163fc3683-c000 Succeeded\n",
      "142 part-00801-57f7270d-f9cc-406c-8b8c-af8163fc3683-c000 Succeeded\n",
      "138 part-00386-57f7270d-f9cc-406c-8b8c-af8163fc3683-c000 Succeeded\n",
      "146 part-00076-57f7270d-f9cc-406c-8b8c-af8163fc3683-c000 Succeeded\n",
      "133 part-00693-57f7270d-f9cc-406c-8b8c-af8163fc3683-c000 Succeeded\n",
      "150 part-00864-57f7270d-f9cc-406c-8b8c-af8163fc3683-c000 Succeeded\n",
      "114 part-00642-57f7270d-f9cc-406c-8b8c-af8163fc3683-c000 Succeeded\n",
      "119 part-00776-57f7270d-f9cc-406c-8b8c-af8163fc3683-c000 Succeeded\n",
      "129 part-00174-57f7270d-f9cc-406c-8b8c-af8163fc3683-c000 Succeeded\n",
      "155 part-00868-57f7270d-f9cc-406c-8b8c-af8163fc3683-c000 Succeeded\n",
      "143 part-00042-57f7270d-f9cc-406c-8b8c-af8163fc3683-c000 Succeeded\n",
      "139 part-00356-57f7270d-f9cc-406c-8b8c-af8163fc3683-c000 Succeeded\n",
      "134 part-00428-57f7270d-f9cc-406c-8b8c-af8163fc3683-c000 Succeeded\n",
      "124 part-00304-57f7270d-f9cc-406c-8b8c-af8163fc3683-c000 Succeeded\n",
      "160 part-00965-57f7270d-f9cc-406c-8b8c-af8163fc3683-c000 Succeeded\n",
      "147 part-00611-57f7270d-f9cc-406c-8b8c-af8163fc3683-c000 Succeeded\n",
      "170 part-00077-57f7270d-f9cc-406c-8b8c-af8163fc3683-c000 Succeeded\n",
      "151 part-00996-57f7270d-f9cc-406c-8b8c-af8163fc3683-c000 Succeeded\n",
      "165 part-00881-57f7270d-f9cc-406c-8b8c-af8163fc3683-c000 Succeeded\n",
      "156 part-00055-57f7270d-f9cc-406c-8b8c-af8163fc3683-c000 Succeeded\n",
      "175 part-00127-57f7270d-f9cc-406c-8b8c-af8163fc3683-c000 Succeeded\n",
      "144 part-00131-57f7270d-f9cc-406c-8b8c-af8163fc3683-c000 Succeeded\n",
      "180 part-00964-57f7270d-f9cc-406c-8b8c-af8163fc3683-c000 Succeeded\n",
      "148 part-00969-57f7270d-f9cc-406c-8b8c-af8163fc3683-c000 Succeeded\n",
      "161 part-00872-57f7270d-f9cc-406c-8b8c-af8163fc3683-c000 Succeeded\n",
      "171 part-00454-57f7270d-f9cc-406c-8b8c-af8163fc3683-c000 Succeeded\n",
      "166 part-00279-57f7270d-f9cc-406c-8b8c-af8163fc3683-c000 Succeeded\n",
      "157 part-00476-57f7270d-f9cc-406c-8b8c-af8163fc3683-c000 Succeeded\n",
      "152 part-00404-57f7270d-f9cc-406c-8b8c-af8163fc3683-c000 Succeeded\n",
      "176 part-00662-57f7270d-f9cc-406c-8b8c-af8163fc3683-c000 Succeeded\n",
      "149 part-00485-57f7270d-f9cc-406c-8b8c-af8163fc3683-c000 Succeeded\n",
      "181 part-00846-57f7270d-f9cc-406c-8b8c-af8163fc3683-c000 Succeeded\n",
      "167 part-00088-57f7270d-f9cc-406c-8b8c-af8163fc3683-c000 Succeeded\n",
      "172 part-00009-57f7270d-f9cc-406c-8b8c-af8163fc3683-c000 Succeeded\n",
      "162 part-00950-57f7270d-f9cc-406c-8b8c-af8163fc3683-c000 Succeeded\n",
      "158 part-00004-57f7270d-f9cc-406c-8b8c-af8163fc3683-c000 Succeeded\n",
      "182 part-00054-57f7270d-f9cc-406c-8b8c-af8163fc3683-c000 Succeeded\n",
      "153 part-00584-57f7270d-f9cc-406c-8b8c-af8163fc3683-c000 Succeeded\n",
      "177 part-00241-57f7270d-f9cc-406c-8b8c-af8163fc3683-c000 Succeeded\n",
      "168 part-00997-57f7270d-f9cc-406c-8b8c-af8163fc3683-c000 Succeeded\n",
      "163 part-00980-57f7270d-f9cc-406c-8b8c-af8163fc3683-c000 Succeeded\n",
      "159 part-00839-57f7270d-f9cc-406c-8b8c-af8163fc3683-c000 Succeeded\n",
      "154 part-00934-57f7270d-f9cc-406c-8b8c-af8163fc3683-c000 Succeeded\n",
      "173 part-00233-57f7270d-f9cc-406c-8b8c-af8163fc3683-c000 Succeeded\n",
      "169 part-00340-57f7270d-f9cc-406c-8b8c-af8163fc3683-c000 Succeeded\n",
      "183 part-00711-57f7270d-f9cc-406c-8b8c-af8163fc3683-c000 Succeeded\n",
      "178 part-00504-57f7270d-f9cc-406c-8b8c-af8163fc3683-c000 Succeeded\n",
      "174 part-00185-57f7270d-f9cc-406c-8b8c-af8163fc3683-c000 Succeeded\n",
      "164 part-00224-57f7270d-f9cc-406c-8b8c-af8163fc3683-c000 Succeeded\n",
      "179 part-00426-57f7270d-f9cc-406c-8b8c-af8163fc3683-c000 Succeeded\n"
     ]
    }
   ],
   "source": [
    "with ThreadPool(10) as pool:\n",
    "    results = pool.map(generateSentiment, fileInfoObjectList)\n",
    "    pool.close()\n",
    "    pool.join()\n",
    "    results_df = pd.DataFrame(data = results)"
   ]
  },
  {
   "cell_type": "code",
   "execution_count": 99,
   "metadata": {},
   "outputs": [
    {
     "data": {
      "text/plain": [
       "8"
      ]
     },
     "execution_count": 99,
     "metadata": {},
     "output_type": "execute_result"
    }
   ],
   "source": [
    "multiprocessing.cpu_count()"
   ]
  },
  {
   "cell_type": "code",
   "execution_count": null,
   "metadata": {},
   "outputs": [],
   "source": [
    "chunk_files = glob.glob(\"/Users/yining/Desktop/Big_Data_Project/sampling/us_2024_news_sampled/sampled_file_45/*.csv\")\n",
    "chunk_files"
   ]
  },
  {
   "cell_type": "code",
   "execution_count": 110,
   "metadata": {},
   "outputs": [
    {
     "data": {
      "text/plain": [
       "246"
      ]
     },
     "execution_count": 110,
     "metadata": {},
     "output_type": "execute_result"
    }
   ],
   "source": [
    "pd.read_csv(chunk_files[0]).shape[0]"
   ]
  },
  {
   "cell_type": "code",
   "execution_count": null,
   "metadata": {},
   "outputs": [],
   "source": [
    "chunk_files[0]"
   ]
  }
 ],
 "metadata": {
  "kernelspec": {
   "display_name": "Python 3",
   "language": "python",
   "name": "python3"
  },
  "language_info": {
   "codemirror_mode": {
    "name": "ipython",
    "version": 3
   },
   "file_extension": ".py",
   "mimetype": "text/x-python",
   "name": "python",
   "nbconvert_exporter": "python",
   "pygments_lexer": "ipython3",
   "version": "3.11.4"
  }
 },
 "nbformat": 4,
 "nbformat_minor": 2
}
